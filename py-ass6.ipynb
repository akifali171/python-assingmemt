{
 "cells": [
  {
   "cell_type": "code",
   "execution_count": 2,
   "metadata": {},
   "outputs": [
    {
     "data": {
      "text/plain": [
       "'\"\\nObject-oriented programming is a programming paradigm based on the concept of \"objects\", which can contain data, in the form of \\nfields, and code, in the form of procedures. '"
      ]
     },
     "execution_count": 2,
     "metadata": {},
     "output_type": "execute_result"
    }
   ],
   "source": [
    "#Qno:1\n",
    "\"\"\"\"\n",
    "Object-oriented programming is a programming paradigm based on the concept of \"objects\", which can contain data, in the form of \n",
    "fields, and code, in the form of procedures. \"\"\"\n"
   ]
  },
  {
   "cell_type": "code",
   "execution_count": 5,
   "metadata": {},
   "outputs": [
    {
     "data": {
      "text/plain": [
       "'\"\\n1: improved software maintability.\\n2: Reuse of code through inheritance.\\n3: faster for development.\\n4: Effective problem solving.\\n5: Flexibility.\\n                '"
      ]
     },
     "execution_count": 5,
     "metadata": {},
     "output_type": "execute_result"
    }
   ],
   "source": [
    "#Qno:2\n",
    "\"\"\"\"\n",
    "1: improved software maintability.\n",
    "2: Reuse of code through inheritance.\n",
    "3: faster for development.\n",
    "4: Effective problem solving.\n",
    "5: Flexibility.\n",
    "                \"\"\""
   ]
  },
  {
   "cell_type": "code",
   "execution_count": null,
   "metadata": {},
   "outputs": [],
   "source": [
    "#Qno:3\n",
    "\n",
    "\"#Difference between function and method\":\n",
    "\n",
    "\"FUNCTION\"\n",
    "    # function is a piece of code that is called by name.It can be passed data to operate on (i.e. the parameters) and can optionally return data (the return value).\n",
    "\n",
    "\n",
    "\"METHOD\":\n",
    "    # method is a piece of code that is called by a name that is associated with an object."
   ]
  },
  {
   "cell_type": "code",
   "execution_count": null,
   "metadata": {},
   "outputs": [],
   "source": [
    "#Qno4:\n",
    "\n",
    "#CLASS:\n",
    "    \"Class is programming-code-template or blueprint for creating object,providing initial values for stat and implementations of behavior in these language.\"\n",
    "\n",
    "#OBJECT:\n",
    "    \"objects are the things you think about first in designing a program and they are also the units of code that are eventually derived from the process. \"\n",
    "\n",
    "\n",
    "#ATTRIBUTES:\n",
    "    \"Attributes are the properties of the object.\"\n",
    "\n",
    "#BEHAVIOR:\n",
    "    \"A class's behavior determines how an instance of that class operates.\""
   ]
  },
  {
   "cell_type": "code",
   "execution_count": null,
   "metadata": {},
   "outputs": [],
   "source": [
    "#Qno5:\n",
    "\n",
    "\n",
    "class car():\n",
    "    def detail(self,model,color,name,speed,price):\n",
    "        self.model = model\n",
    "        self.color = color\n",
    "        self.name = name\n",
    "        self.speed = speed\n",
    "        self.price = price\n",
    "        \n",
    "        \n",
    "#method one\n",
    "    def car_Color(self, carColor):\n",
    "        self.color = car_Color\n",
    "        \n",
    "        \n",
    "#method two\n",
    "    def car_Model(self):\n",
    "        self.model = \"Toyota COROLA\"\n",
    "        \n",
    "        \n",
    "#method three\n",
    "    def car_Price (self, new_Price):\n",
    "        self.price -= new_Price\n",
    "        \n",
    "    \n",
    "Detail = car(\"Toyota. gli\", \"white\", \"Toyota\", \"Speed 200 km / per hour\", 2400000)\n",
    "\n",
    "Detail.car_Color(\"grey\")\n",
    "print(Detail.color)\n",
    "\n",
    "Detail.car_Model(\"Toyota. xli\")\n",
    "print(Detail.model)\n",
    "\n",
    "Detail.car_Price(400000)\n",
    "print(Detail.price)"
   ]
  }
 ],
 "metadata": {
  "kernelspec": {
   "display_name": "Python 3",
   "language": "python",
   "name": "python3"
  },
  "language_info": {
   "codemirror_mode": {
    "name": "ipython",
    "version": 3
   },
   "file_extension": ".py",
   "mimetype": "text/x-python",
   "name": "python",
   "nbconvert_exporter": "python",
   "pygments_lexer": "ipython3",
   "version": "3.7.3"
  }
 },
 "nbformat": 4,
 "nbformat_minor": 2
}
