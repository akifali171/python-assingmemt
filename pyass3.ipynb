{
 "cells": [
  {
   "cell_type": "code",
   "execution_count": 16,
   "metadata": {},
   "outputs": [
    {
     "name": "stdout",
     "output_type": "stream",
     "text": [
      "enter a number : 7\n",
      "This value is not available.\n",
      "This value is not available.\n",
      "This value is not available.\n",
      "This value is not available.\n",
      "This value is not available.\n",
      "This value is not available.\n",
      "This value is available.\n",
      "This value is not available.\n",
      "This value is not available.\n"
     ]
    }
   ],
   "source": [
    "arr = [1,2,3,4,5,6,7,8,9]\n",
    "num = int(input(\"enter a number : \"))\n",
    "for akif in arr:\n",
    "    if num ==akif:\n",
    "        print(\"This value is available.\")\n",
    "    else:\n",
    "        print(\"This value is not available.\")"
   ]
  },
  {
   "cell_type": "code",
   "execution_count": 23,
   "metadata": {},
   "outputs": [
    {
     "name": "stdout",
     "output_type": "stream",
     "text": [
      "aliraza123@gmail.com\n"
     ]
    }
   ],
   "source": [
    "data = {\n",
    "    \"First_Name\":\"Ali\",\n",
    "    \"Last_Nmae\":\"Raza\",\n",
    "    \"email\":\"aliraza123@gmail.com\"\n",
    "}\n",
    "print(data[\"email\"])"
   ]
  },
  {
   "cell_type": "code",
   "execution_count": 33,
   "metadata": {},
   "outputs": [
    {
     "name": "stdout",
     "output_type": "stream",
     "text": [
      "Enter first value : 40\n",
      "Enter second value : 10\n",
      "Enter operater : +\n",
      "50 answer\n"
     ]
    }
   ],
   "source": [
    "val1 = input(\"Enter first value : \")\n",
    "val2 = input(\"Enter second value : \")\n",
    "operater = input(\"Enter operater : \")\n",
    "val1 = int(val1)\n",
    "val2 = int(val2)\n",
    "if operater ==\"+\":\n",
    "  ans = val1 + val2\n",
    "  print(ans,\"answer\")\n",
    "elif operater == \"-\":\n",
    "  ans = val1 - val2\n",
    "  print(ans,\"answer\")\n",
    "elif operater == \"*\":\n",
    "  ans = val1 * val2\n",
    "  print(ans, \"answer\")\n",
    "elif operater == \"/\":\n",
    "  ans = val1 / val2\n",
    "  print(ans,\"is answer\")\n",
    "else:\n",
    "    print(\"enter\")\n"
   ]
  },
  {
   "cell_type": "code",
   "execution_count": null,
   "metadata": {},
   "outputs": [],
   "source": []
  },
  {
   "cell_type": "code",
   "execution_count": null,
   "metadata": {},
   "outputs": [],
   "source": []
  },
  {
   "cell_type": "code",
   "execution_count": null,
   "metadata": {},
   "outputs": [],
   "source": []
  }
 ],
 "metadata": {
  "kernelspec": {
   "display_name": "Python 3",
   "language": "python",
   "name": "python3"
  },
  "language_info": {
   "codemirror_mode": {
    "name": "ipython",
    "version": 3
   },
   "file_extension": ".py",
   "mimetype": "text/x-python",
   "name": "python",
   "nbconvert_exporter": "python",
   "pygments_lexer": "ipython3",
   "version": "3.7.4"
  }
 },
 "nbformat": 4,
 "nbformat_minor": 2
}
