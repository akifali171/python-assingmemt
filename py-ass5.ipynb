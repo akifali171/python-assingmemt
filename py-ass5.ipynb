{
 "cells": [
  {
   "cell_type": "code",
   "execution_count": 19,
   "metadata": {},
   "outputs": [
    {
     "name": "stdout",
     "output_type": "stream",
     "text": [
      "enter any value: 5\n",
      "120\n"
     ]
    }
   ],
   "source": [
    "#Qno:1\n",
    "def factorial(num):\n",
    "    if num == 0:\n",
    "        return 1\n",
    "    else:\n",
    "        return num * factorial(num-1)\n",
    "num = int(input(\"enter any value: \"))\n",
    "print(factorial(num))"
   ]
  },
  {
   "cell_type": "code",
   "execution_count": 41,
   "metadata": {},
   "outputs": [
    {
     "name": "stdout",
     "output_type": "stream",
     "text": [
      "number of upper case is: 12\n",
      "number of lower case is:  8\n"
     ]
    }
   ],
   "source": [
    "#Qno:2\n",
    "def string(a):\n",
    "    upper = sum(1 for c in a if c.isupper())\n",
    "    lower = sum(1 for c in a if c.islower())\n",
    "    print(\"number of upper case is:\",upper)\n",
    "    print(\"number of lower case is: \",lower)\n",
    "    \n",
    "string(\"My name is MUHAMMAD AKIf\")"
   ]
  },
  {
   "cell_type": "code",
   "execution_count": 25,
   "metadata": {},
   "outputs": [
    {
     "name": "stdout",
     "output_type": "stream",
     "text": [
      "number is odd.\n",
      "number is even.\n",
      "number is odd.\n",
      "number is even.\n",
      "number is odd.\n",
      "number is even.\n",
      "number is odd.\n",
      "number is even.\n",
      "number is odd.\n",
      "number is even.\n"
     ]
    }
   ],
   "source": [
    "#Qno:3\n",
    "def num_func():\n",
    "    arr = [1,2,3,4,5,6,7,8,9,10]\n",
    "    for a in arr:\n",
    "        div = a % 2\n",
    "        if div == 0:\n",
    "            print(\"number is even.\")\n",
    "        else:\n",
    "            print(\"number is odd.\")\n",
    "num_func()"
   ]
  },
  {
   "cell_type": "code",
   "execution_count": 48,
   "metadata": {},
   "outputs": [
    {
     "name": "stdout",
     "output_type": "stream",
     "text": [
      "enter only string :akif\n",
      "string : akif\n",
      "reverse : fika\n",
      "It is not a palindrme.\n"
     ]
    }
   ],
   "source": [
    "#Qno:4\n",
    "def check(st):\n",
    "    rev = st[::-1]\n",
    "    print(\"string :\",st)\n",
    "    print(\"reverse :\",rev)\n",
    "    if st ==rev:\n",
    "        return True\n",
    "    else:\n",
    "        return False\n",
    "string = input(\"enter only string :\")\n",
    "if check(string):\n",
    "    print(\"It is a palindrme.\")\n",
    "else:\n",
    "    print(\"It is not a palindrme.\")"
   ]
  },
  {
   "cell_type": "code",
   "execution_count": 3,
   "metadata": {},
   "outputs": [
    {
     "name": "stdout",
     "output_type": "stream",
     "text": [
      "enter a value : 5\n",
      "5  value is prime.\n"
     ]
    }
   ],
   "source": [
    "#Qno:5\n",
    "def prime(n):\n",
    "    if (n<2):\n",
    "        return False\n",
    "    for i in range(2,n//2+1):\n",
    "        if n % i ==0:\n",
    "            return False\n",
    "    return True\n",
    "\n",
    "num = int(input(\"enter a value : \"))\n",
    "if prime(num):\n",
    "    print(num,\" value is prime.\")\n",
    "else:\n",
    "    print(num,\" value is not a prime.\")\n",
    "    "
   ]
  },
  {
   "cell_type": "code",
   "execution_count": 47,
   "metadata": {},
   "outputs": [
    {
     "name": "stdout",
     "output_type": "stream",
     "text": [
      "purschased good: surf execl\n",
      "purschased good: rice\n",
      "purschased good: onion\n",
      "purschased good: tomato\n"
     ]
    }
   ],
   "source": [
    "#Qno:6\n",
    "def shopping_list(*lst):\n",
    "    for goods in lst:\n",
    "        print(\"purschased good: \" + goods)\n",
    "shopping_list(\"surf execl\",\"rice\",\"onion\",\"tomato\")\n",
    "    "
   ]
  }
 ],
 "metadata": {
  "kernelspec": {
   "display_name": "Python 3",
   "language": "python",
   "name": "python3"
  },
  "language_info": {
   "codemirror_mode": {
    "name": "ipython",
    "version": 3
   },
   "file_extension": ".py",
   "mimetype": "text/x-python",
   "name": "python",
   "nbconvert_exporter": "python",
   "pygments_lexer": "ipython3",
   "version": "3.7.3"
  }
 },
 "nbformat": 4,
 "nbformat_minor": 2
}
