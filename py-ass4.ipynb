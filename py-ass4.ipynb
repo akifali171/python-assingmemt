{
 "cells": [
  {
   "cell_type": "code",
   "execution_count": 1,
   "metadata": {},
   "outputs": [
    {
     "name": "stdout",
     "output_type": "stream",
     "text": [
      "Muhammad\n",
      "Akif\n",
      "18\n",
      "Karachi\n"
     ]
    }
   ],
   "source": [
    "#Qno:1\n",
    "info = [\n",
    "    {\n",
    "      \"firstname\":\"Muhammad\",\n",
    "      \"lastname\":\"Akif\",\n",
    "      \"age\":18,\n",
    "        \"city\":\"Karachi\"\n",
    "    },\n",
    "]\n",
    "print(info[0][\"firstname\"])\n",
    "print(info[0][\"lastname\"])\n",
    "print(info[0][\"age\"])\n",
    "print(info[0][\"city\"])"
   ]
  },
  {
   "cell_type": "code",
   "execution_count": 2,
   "metadata": {},
   "outputs": [
    {
     "name": "stdout",
     "output_type": "stream",
     "text": [
      "{'firstname': 'Muhammad', 'lastname': 'Akif', 'age': 18, 'city': 'Karachi', 'qualification': 'matric'}\n"
     ]
    }
   ],
   "source": [
    "info1 = {\n",
    "          \"firstname\":\"Muhammad\",\n",
    "          \"lastname\":\"Akif\",\n",
    "          \"age\":18,\n",
    "          \"city\":\"Karachi\",\n",
    "        }\n",
    "info1[\"qualification\"] = \"matric\"\n",
    "print(info1)"
   ]
  },
  {
   "cell_type": "code",
   "execution_count": 3,
   "metadata": {},
   "outputs": [
    {
     "name": "stdout",
     "output_type": "stream",
     "text": [
      "{'firstname': 'Muhammad', 'lastname': 'Akif', 'age': 18, 'city': 'Karachi'}\n"
     ]
    }
   ],
   "source": [
    "del info1[\"qualification\"]\n",
    "print(info1)"
   ]
  },
  {
   "cell_type": "code",
   "execution_count": 4,
   "metadata": {},
   "outputs": [
    {
     "name": "stdout",
     "output_type": "stream",
     "text": [
      "{'country': 'Pakistan', 'population': '2 crore', 'about': 'karachi is a idustrial hub of pakistan.'}\n",
      "{'country': 'Pakistan', 'population': '1 crore 70 lac', 'about': 'The biggest zoo of Pakistan in Lahore.'}\n",
      "{'country': 'Pakistan', 'population': '1 million', 'about': 'Islamabad is a capital of Pakistan.'}\n"
     ]
    }
   ],
   "source": [
    "#Qno:2\n",
    "cities = {\n",
    "        \"karachi\":{\n",
    "            \"country\":\"Pakistan\",\n",
    "            \"population\":\"2 crore\",\n",
    "            \"about\":\"karachi is a idustrial hub of pakistan.\",\n",
    "        },\n",
    "        \"lahore\":{\n",
    "            \"country\":\"Pakistan\",\n",
    "            \"population\":\"1 crore 70 lac\",\n",
    "            \"about\":\"The biggest zoo of Pakistan in Lahore.\"\n",
    "        },\n",
    "        \"islamabad\":{\n",
    "            \"country\":\"Pakistan\",\n",
    "            \"population\":\"1 million\",\n",
    "            \"about\":\"Islamabad is a capital of Pakistan.\"\n",
    "        }\n",
    "}\n",
    "print(cities[\"karachi\"])\n",
    "print(cities[\"lahore\"])\n",
    "print(cities[\"islamabad\"])"
   ]
  },
  {
   "cell_type": "code",
   "execution_count": 5,
   "metadata": {},
   "outputs": [
    {
     "name": "stdout",
     "output_type": "stream",
     "text": [
      "enter your age:6\n",
      "your ticket price is $10.\n"
     ]
    }
   ],
   "source": [
    "#Qno:3\n",
    "age = int(input(\"enter your age:\"))\n",
    "\n",
    "if age < 3:\n",
    "    print(\"Free\")\n",
    "elif age >= 3 and age <= 12:\n",
    "    print(\"your ticket price is $10.\")\n",
    "elif age > 12:\n",
    "    print(\"your ticket price is $15.\")\n",
    "    "
   ]
  },
  {
   "cell_type": "code",
   "execution_count": 6,
   "metadata": {},
   "outputs": [
    {
     "name": "stdout",
     "output_type": "stream",
     "text": [
      "A smarter way to learn python is best book for beginners.\n"
     ]
    }
   ],
   "source": [
    "#Qno:4\n",
    "def favorite_book(title):\n",
    "    print(title + \"is best book for beginners.\")\n",
    "favorite_book(\"A smarter way to learn python \")"
   ]
  },
  {
   "cell_type": "code",
   "execution_count": null,
   "metadata": {},
   "outputs": [],
   "source": [
    "#Qno:5\n",
    "import random\n",
    "random_num = random.randint(1,30)\n",
    "while True:\n",
    "    num = int(input(\"Guess the correct number:  \"))\n",
    "    if num < random_num:\n",
    "        print(\"your guessing number is low.\")\n",
    "    elif num > random_num:\n",
    "        print(\"your guessing number is high.\")\n",
    "    else:\n",
    "        print(\"your guessing number is correct.\")\n",
    "        break\n",
    "    "
   ]
  }
 ],
 "metadata": {
  "kernelspec": {
   "display_name": "Python 3",
   "language": "python",
   "name": "python3"
  },
  "language_info": {
   "codemirror_mode": {
    "name": "ipython",
    "version": 3
   },
   "file_extension": ".py",
   "mimetype": "text/x-python",
   "name": "python",
   "nbconvert_exporter": "python",
   "pygments_lexer": "ipython3",
   "version": "3.7.3"
  },
  "widgets": {
   "application/vnd.jupyter.widget-state+json": {
    "state": {},
    "version_major": 2,
    "version_minor": 0
   }
  }
 },
 "nbformat": 4,
 "nbformat_minor": 2
}
