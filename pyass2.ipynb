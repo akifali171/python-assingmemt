{
 "cells": [
  {
   "cell_type": "code",
   "execution_count": 1,
   "metadata": {},
   "outputs": [
    {
     "name": "stdout",
     "output_type": "stream",
     "text": [
      "Enter Your English Marks 45\n",
      "Enter Your Urdu Marks 65\n",
      "Enter Your Accounting Marks 76\n",
      "Enter Your Economics Marks 34\n",
      "Enter Your math Marks 60\n",
      "65.88235294117646\n",
      "Your Grade is 'B' \n"
     ]
    }
   ],
   "source": [
    "english = int(input(\"Enter Your English Marks \"))\n",
    "urdu = int(input(\"Enter Your Urdu Marks \"))\n",
    "accounting = int(input(\"Enter Your Accounting Marks \"))\n",
    "economics = int(input(\"Enter Your Economics Marks \"))\n",
    "math = int(input(\"Enter Your math Marks \"))\n",
    "total = (english + urdu + accounting + economics + math)\n",
    "per = (total * 100 / 425)\n",
    "print(per)\n",
    "if per >= 80 and per <100:\n",
    "    print(\"Your Grade is 'A+' \")\n",
    "elif per >= 70 and per <80 :\n",
    "    print(\"Your Grade is 'A' \")\n",
    "elif per >= 60 and per <70:\n",
    "    print(\"Your Grade is 'B' \")\n",
    "elif per >= 50 and per <60:\n",
    "    print(\"Your Grade is 'C' \")\n",
    "elif per >= 40 and per <50:\n",
    "    print(\"Your Grade is 'D' \")\n",
    "elif per >= 0 and per <40:\n",
    "    print(\"Sorry ! You Are Fail \")\n",
    "else :\n",
    "    print(\"You have Entered Incorrect Marks\")"
   ]
  },
  {
   "cell_type": "code",
   "execution_count": 11,
   "metadata": {},
   "outputs": [
    {
     "name": "stdout",
     "output_type": "stream",
     "text": [
      "Enter a number :5\n",
      "5 is odd\n"
     ]
    }
   ],
   "source": [
    "x = int(input(\"Enter a number :\"))\n",
    "if x%2==0:\n",
    "  print(x,\"is Even\")\n",
    "else:\n",
    "    print(x,\"is odd\")"
   ]
  },
  {
   "cell_type": "code",
   "execution_count": 13,
   "metadata": {},
   "outputs": [
    {
     "data": {
      "text/plain": [
       "9"
      ]
     },
     "execution_count": 13,
     "metadata": {},
     "output_type": "execute_result"
    }
   ],
   "source": [
    "arr = [1,2,3,4,5,6,7,\"akif\",\"ali\"]\n",
    "len(arr)"
   ]
  },
  {
   "cell_type": "code",
   "execution_count": 15,
   "metadata": {},
   "outputs": [
    {
     "name": "stdout",
     "output_type": "stream",
     "text": [
      "18\n"
     ]
    }
   ],
   "source": [
    "mylist = [2,2,2,3,4,5]\n",
    "total = sum(mylist)\n",
    "print(total)"
   ]
  },
  {
   "cell_type": "code",
   "execution_count": 23,
   "metadata": {},
   "outputs": [
    {
     "name": "stdout",
     "output_type": "stream",
     "text": [
      "Enter a number of elements : 5\n",
      "enter element : 234\n",
      "enter element : 4322\n",
      "enter element : 3443\n",
      "enter element : 766\n",
      "enter element : 127\n",
      "Largest element is :  4322\n"
     ]
    }
   ],
   "source": [
    "a = []\n",
    "n = int(input(\"Enter a number of elements : \"))\n",
    "for i in range(1,n+1):\n",
    "    b = int(input(\"enter element : \"))\n",
    "    a.append(b)\n",
    "a.sort()\n",
    "print(\"Largest element is : \",a[n-1])"
   ]
  },
  {
   "cell_type": "code",
   "execution_count": 26,
   "metadata": {},
   "outputs": [
    {
     "data": {
      "text/plain": [
       "[1, 1, 2, 3]"
      ]
     },
     "execution_count": 26,
     "metadata": {},
     "output_type": "execute_result"
    }
   ],
   "source": [
    "arr = [1, 1, 2, 3, 5, 8, 13, 21, 34, 55, 89]\n",
    "arr[:4]"
   ]
  }
 ],
 "metadata": {
  "kernelspec": {
   "display_name": "Python 3",
   "language": "python",
   "name": "python3"
  },
  "language_info": {
   "codemirror_mode": {
    "name": "ipython",
    "version": 3
   },
   "file_extension": ".py",
   "mimetype": "text/x-python",
   "name": "python",
   "nbconvert_exporter": "python",
   "pygments_lexer": "ipython3",
   "version": "3.7.4"
  }
 },
 "nbformat": 4,
 "nbformat_minor": 2
}
